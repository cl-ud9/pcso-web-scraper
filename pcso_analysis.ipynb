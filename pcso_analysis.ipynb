{
 "cells": [
  {
   "cell_type": "markdown",
   "metadata": {},
   "source": [
    "---\n",
    "# Description\n",
    "\n",
    "An exploratory data analysis of PCSO draw results\n",
    "\n",
    "---"
   ]
  },
  {
   "cell_type": "markdown",
   "metadata": {},
   "source": [
    "\n",
    "# Objective\n",
    "\n",
    "This project only deals with **exploratory analysis**, where the main objective is understanding how the data is distributed and generate an insight for future reference. This particular analysis focuses on the Ultra Lotto 6/58.\n",
    "\n",
    "<i>Disclaimer : Remember that lotteries are designed to be random, so while EDA can reveal patterns in historical data, it does not guarantee future success in predicting winning combinations. These analyses are mostly for curiosity and entertainment, and they should not be used as a basis for gambling.\n",
    "\n",
    "Always gamble responsibly, and consider the odds and risks associated with playing the lottery.</i>\n",
    "\n",
    "---"
   ]
  },
  {
   "cell_type": "markdown",
   "metadata": {},
   "source": [
    "# Outline\n",
    "\n",
    "*A.Data Preprocessing*\n",
    "\n",
    "*B.Descriptive Analysis*\n",
    "1. Frequency Distribution"
   ]
  },
  {
   "cell_type": "code",
   "execution_count": 2,
   "metadata": {},
   "outputs": [],
   "source": [
    "import pandas as pd\n",
    "import numpy as np\n",
    "import matplotlib.pyplot as plt\n",
    "import seaborn as sns\n",
    "\n",
    "pcso = pd.read_csv(\"~/Documents/data/pcso_data.csv\",index_col=0)"
   ]
  },
  {
   "cell_type": "code",
   "execution_count": 6,
   "metadata": {},
   "outputs": [
    {
     "data": {
      "text/html": [
       "<div>\n",
       "<style scoped>\n",
       "    .dataframe tbody tr th:only-of-type {\n",
       "        vertical-align: middle;\n",
       "    }\n",
       "\n",
       "    .dataframe tbody tr th {\n",
       "        vertical-align: top;\n",
       "    }\n",
       "\n",
       "    .dataframe thead th {\n",
       "        text-align: right;\n",
       "    }\n",
       "</style>\n",
       "<table border=\"1\" class=\"dataframe\">\n",
       "  <thead>\n",
       "    <tr style=\"text-align: right;\">\n",
       "      <th></th>\n",
       "      <th>LOTTO GAME</th>\n",
       "      <th>COMBINATIONS</th>\n",
       "      <th>DRAW DATE</th>\n",
       "      <th>JACKPOT (PHP)</th>\n",
       "      <th>WINNERS</th>\n",
       "    </tr>\n",
       "  </thead>\n",
       "  <tbody>\n",
       "    <tr>\n",
       "      <th>0</th>\n",
       "      <td>Superlotto 6/49</td>\n",
       "      <td>37-20-41-05-46-35</td>\n",
       "      <td>10/5/2023</td>\n",
       "      <td>109,025,555.20</td>\n",
       "      <td>0</td>\n",
       "    </tr>\n",
       "    <tr>\n",
       "      <th>1</th>\n",
       "      <td>Lotto 6/42</td>\n",
       "      <td>25-24-26-35-21-42</td>\n",
       "      <td>10/5/2023</td>\n",
       "      <td>21,249,596.40</td>\n",
       "      <td>0</td>\n",
       "    </tr>\n",
       "    <tr>\n",
       "      <th>2</th>\n",
       "      <td>6D Lotto</td>\n",
       "      <td>5-1-6-7-0-0</td>\n",
       "      <td>10/5/2023</td>\n",
       "      <td>872,333.00</td>\n",
       "      <td>0</td>\n",
       "    </tr>\n",
       "    <tr>\n",
       "      <th>3</th>\n",
       "      <td>3D Lotto 2PM</td>\n",
       "      <td>4-8-2</td>\n",
       "      <td>10/5/2023</td>\n",
       "      <td>4,500.00</td>\n",
       "      <td>203</td>\n",
       "    </tr>\n",
       "    <tr>\n",
       "      <th>4</th>\n",
       "      <td>3D Lotto 5PM</td>\n",
       "      <td>6-7-3</td>\n",
       "      <td>10/5/2023</td>\n",
       "      <td>4,500.00</td>\n",
       "      <td>199</td>\n",
       "    </tr>\n",
       "  </tbody>\n",
       "</table>\n",
       "</div>"
      ],
      "text/plain": [
       "        LOTTO GAME       COMBINATIONS  DRAW DATE   JACKPOT (PHP)  WINNERS\n",
       "0  Superlotto 6/49  37-20-41-05-46-35  10/5/2023  109,025,555.20        0\n",
       "1       Lotto 6/42  25-24-26-35-21-42  10/5/2023   21,249,596.40        0\n",
       "2         6D Lotto  5-1-6-7-0-0        10/5/2023      872,333.00        0\n",
       "3     3D Lotto 2PM  4-8-2              10/5/2023        4,500.00      203\n",
       "4     3D Lotto 5PM  6-7-3              10/5/2023        4,500.00      199"
      ]
     },
     "execution_count": 6,
     "metadata": {},
     "output_type": "execute_result"
    }
   ],
   "source": [
    "pcso.head()"
   ]
  },
  {
   "cell_type": "code",
   "execution_count": 8,
   "metadata": {},
   "outputs": [
    {
     "name": "stdout",
     "output_type": "stream",
     "text": [
      "<class 'pandas.core.frame.DataFrame'>\n",
      "Index: 33024 entries, 0 to 33023\n",
      "Data columns (total 5 columns):\n",
      " #   Column         Non-Null Count  Dtype \n",
      "---  ------         --------------  ----- \n",
      " 0   LOTTO GAME     33024 non-null  object\n",
      " 1   COMBINATIONS   33024 non-null  object\n",
      " 2   DRAW DATE      33024 non-null  object\n",
      " 3   JACKPOT (PHP)  33024 non-null  object\n",
      " 4   WINNERS        33024 non-null  int64 \n",
      "dtypes: int64(1), object(4)\n",
      "memory usage: 1.5+ MB\n"
     ]
    }
   ],
   "source": [
    "pcso.info()"
   ]
  },
  {
   "cell_type": "code",
   "execution_count": 11,
   "metadata": {},
   "outputs": [
    {
     "name": "stdout",
     "output_type": "stream",
     "text": [
      "0\n"
     ]
    }
   ],
   "source": [
    "nullVals = pcso.isnull().sum().sum()\n",
    "print(nullVals)"
   ]
  },
  {
   "cell_type": "markdown",
   "metadata": {},
   "source": [
    ">Therefore there are no null values"
   ]
  },
  {
   "cell_type": "code",
   "execution_count": 13,
   "metadata": {},
   "outputs": [
    {
     "data": {
      "text/plain": [
       "Index(['LOTTO GAME', 'COMBINATIONS', 'DRAW DATE', 'JACKPOT (PHP)', 'WINNERS'], dtype='object')"
      ]
     },
     "execution_count": 13,
     "metadata": {},
     "output_type": "execute_result"
    }
   ],
   "source": [
    "pcso.columns"
   ]
  },
  {
   "cell_type": "code",
   "execution_count": 14,
   "metadata": {},
   "outputs": [
    {
     "name": "stdout",
     "output_type": "stream",
     "text": [
      "['Superlotto 6/49' 'Lotto 6/42' '6D Lotto' '3D Lotto 2PM' '3D Lotto 5PM'\n",
      " '3D Lotto 9PM' '2D Lotto 2PM' '2D Lotto 5PM' '2D Lotto 9PM'\n",
      " 'Grand Lotto 6/55' 'Megalotto 6/45' '4D Lotto' 'Ultra Lotto 6/58'\n",
      " 'Suertres Lotto 11:30AM' 'Suertres Lotto 12:30PM' 'Suertres Lotto 2PM'\n",
      " 'EZ2 Lotto 2PM' 'EZ2 Lotto 11:30AM' 'EZ2 Lotto 12:30PM']\n"
     ]
    }
   ],
   "source": [
    "uniqueVals = pcso[\"LOTTO GAME\"].unique()\n",
    "print(uniqueVals)"
   ]
  },
  {
   "cell_type": "code",
   "execution_count": 87,
   "metadata": {},
   "outputs": [
    {
     "data": {
      "text/html": [
       "<div>\n",
       "<style scoped>\n",
       "    .dataframe tbody tr th:only-of-type {\n",
       "        vertical-align: middle;\n",
       "    }\n",
       "\n",
       "    .dataframe tbody tr th {\n",
       "        vertical-align: top;\n",
       "    }\n",
       "\n",
       "    .dataframe thead th {\n",
       "        text-align: right;\n",
       "    }\n",
       "</style>\n",
       "<table border=\"1\" class=\"dataframe\">\n",
       "  <thead>\n",
       "    <tr style=\"text-align: right;\">\n",
       "      <th></th>\n",
       "      <th>LOTTO GAME</th>\n",
       "      <th>COMBINATIONS</th>\n",
       "      <th>DRAW DATE</th>\n",
       "      <th>JACKPOT (PHP)</th>\n",
       "      <th>WINNERS</th>\n",
       "    </tr>\n",
       "  </thead>\n",
       "  <tbody>\n",
       "    <tr>\n",
       "      <th>14751</th>\n",
       "      <td>Ultra Lotto 6/58</td>\n",
       "      <td>40-50-37-25-01-45</td>\n",
       "      <td>10/14/2018</td>\n",
       "      <td>1180622508.0</td>\n",
       "      <td>2</td>\n",
       "    </tr>\n",
       "    <tr>\n",
       "      <th>14769</th>\n",
       "      <td>Ultra Lotto 6/58</td>\n",
       "      <td>28-14-54-50-17-27</td>\n",
       "      <td>10/12/2018</td>\n",
       "      <td>1112647388.0</td>\n",
       "      <td>0</td>\n",
       "    </tr>\n",
       "    <tr>\n",
       "      <th>14797</th>\n",
       "      <td>Ultra Lotto 6/58</td>\n",
       "      <td>12-16-46-03-38-36</td>\n",
       "      <td>10/9/2018</td>\n",
       "      <td>1026264340.0</td>\n",
       "      <td>0</td>\n",
       "    </tr>\n",
       "    <tr>\n",
       "      <th>14814</th>\n",
       "      <td>Ultra Lotto 6/58</td>\n",
       "      <td>45-21-02-30-07-10</td>\n",
       "      <td>10/7/2018</td>\n",
       "      <td>954503164.0</td>\n",
       "      <td>0</td>\n",
       "    </tr>\n",
       "    <tr>\n",
       "      <th>14832</th>\n",
       "      <td>Ultra Lotto 6/58</td>\n",
       "      <td>01-30-27-36-49-12</td>\n",
       "      <td>10/5/2018</td>\n",
       "      <td>903290152.0</td>\n",
       "      <td>0</td>\n",
       "    </tr>\n",
       "    <tr>\n",
       "      <th>...</th>\n",
       "      <td>...</td>\n",
       "      <td>...</td>\n",
       "      <td>...</td>\n",
       "      <td>...</td>\n",
       "      <td>...</td>\n",
       "    </tr>\n",
       "    <tr>\n",
       "      <th>11451</th>\n",
       "      <td>Ultra Lotto 6/58</td>\n",
       "      <td>45-43-02-47-13-58</td>\n",
       "      <td>10/20/2019</td>\n",
       "      <td>49500000.0</td>\n",
       "      <td>0</td>\n",
       "    </tr>\n",
       "    <tr>\n",
       "      <th>11468</th>\n",
       "      <td>Ultra Lotto 6/58</td>\n",
       "      <td>55-37-11-21-18-45</td>\n",
       "      <td>10/18/2019</td>\n",
       "      <td>49500000.0</td>\n",
       "      <td>0</td>\n",
       "    </tr>\n",
       "    <tr>\n",
       "      <th>11495</th>\n",
       "      <td>Ultra Lotto 6/58</td>\n",
       "      <td>13-23-09-58-38-14</td>\n",
       "      <td>10/15/2019</td>\n",
       "      <td>49500000.0</td>\n",
       "      <td>0</td>\n",
       "    </tr>\n",
       "    <tr>\n",
       "      <th>11514</th>\n",
       "      <td>Ultra Lotto 6/58</td>\n",
       "      <td>13-31-17-22-35-36</td>\n",
       "      <td>10/13/2019</td>\n",
       "      <td>49500000.0</td>\n",
       "      <td>0</td>\n",
       "    </tr>\n",
       "    <tr>\n",
       "      <th>18</th>\n",
       "      <td>Ultra Lotto 6/58</td>\n",
       "      <td>45-32-11-19-35-34</td>\n",
       "      <td>10/3/2023</td>\n",
       "      <td>49500000.0</td>\n",
       "      <td>0</td>\n",
       "    </tr>\n",
       "  </tbody>\n",
       "</table>\n",
       "<p>1171 rows × 5 columns</p>\n",
       "</div>"
      ],
      "text/plain": [
       "             LOTTO GAME       COMBINATIONS   DRAW DATE JACKPOT (PHP)  WINNERS\n",
       "14751  Ultra Lotto 6/58  40-50-37-25-01-45  10/14/2018  1180622508.0        2\n",
       "14769  Ultra Lotto 6/58  28-14-54-50-17-27  10/12/2018  1112647388.0        0\n",
       "14797  Ultra Lotto 6/58  12-16-46-03-38-36   10/9/2018  1026264340.0        0\n",
       "14814  Ultra Lotto 6/58  45-21-02-30-07-10   10/7/2018   954503164.0        0\n",
       "14832  Ultra Lotto 6/58  01-30-27-36-49-12   10/5/2018   903290152.0        0\n",
       "...                 ...                ...         ...           ...      ...\n",
       "11451  Ultra Lotto 6/58  45-43-02-47-13-58  10/20/2019    49500000.0        0\n",
       "11468  Ultra Lotto 6/58  55-37-11-21-18-45  10/18/2019    49500000.0        0\n",
       "11495  Ultra Lotto 6/58  13-23-09-58-38-14  10/15/2019    49500000.0        0\n",
       "11514  Ultra Lotto 6/58  13-31-17-22-35-36  10/13/2019    49500000.0        0\n",
       "18     Ultra Lotto 6/58  45-32-11-19-35-34   10/3/2023    49500000.0        0\n",
       "\n",
       "[1171 rows x 5 columns]"
      ]
     },
     "execution_count": 87,
     "metadata": {},
     "output_type": "execute_result"
    }
   ],
   "source": [
    "dfULotto = pcso[(pcso[\"LOTTO GAME\"] == \"Ultra Lotto 6/58\")]\n",
    "dfULotto.loc[:,\"JACKPOT (PHP)\"] = dfULotto[\"JACKPOT (PHP)\"].str.replace(\",\",\"\").astype(float)\n",
    "dfSortedULotto = dfULotto.sort_values(by=\"JACKPOT (PHP)\", ascending=False)\n",
    "dfSortedULotto"
   ]
  }
 ],
 "metadata": {
  "kernelspec": {
   "display_name": "Python 3",
   "language": "python",
   "name": "python3"
  },
  "language_info": {
   "codemirror_mode": {
    "name": "ipython",
    "version": 3
   },
   "file_extension": ".py",
   "mimetype": "text/x-python",
   "name": "python",
   "nbconvert_exporter": "python",
   "pygments_lexer": "ipython3",
   "version": "3.10.12"
  }
 },
 "nbformat": 4,
 "nbformat_minor": 2
}
