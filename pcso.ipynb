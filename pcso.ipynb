{
 "cells": [
  {
   "cell_type": "code",
   "execution_count": 1,
   "metadata": {},
   "outputs": [],
   "source": [
    "import pandas as pd\n",
    "from selenium import webdriver\n",
    "from selenium.webdriver.support.ui import Select\n",
    "from selenium.webdriver.common.by import By\n",
    "from selenium.webdriver.support.ui import WebDriverWait\n",
    "from bs4 import BeautifulSoup"
   ]
  },
  {
   "cell_type": "code",
   "execution_count": 8,
   "metadata": {},
   "outputs": [],
   "source": [
    "driver = webdriver.Chrome()\n",
    "driver.get('https://www.pcso.gov.ph/SearchLottoResult.aspx')\n",
    "driver.implicitly_wait(10)\n",
    "\n",
    "dselect_month = Select(driver.find_element(By.ID, \"cphContainer_cpContent_ddlStartMonth\"))\n",
    "dselect_month.select_by_value(\"January\")\n",
    "dselect_date = Select(driver.find_element(By.ID, \"cphContainer_cpContent_ddlStartDate\"))\n",
    "dselect_date.select_by_value(\"1\")\n",
    "dselect_year = Select(driver.find_element(By.ID, \"cphContainer_cpContent_ddlStartYear\"))\n",
    "dselect_year.select_by_value(\"2013\")\n",
    "dclick = driver.find_element(By.ID,\"cphContainer_cpContent_btnSearch\").click()"
   ]
  },
  {
   "cell_type": "markdown",
   "metadata": {},
   "source": [
    "Select the relevant elements and click using Selenium"
   ]
  },
  {
   "cell_type": "code",
   "execution_count": 9,
   "metadata": {},
   "outputs": [],
   "source": [
    "page_source = driver.page_source\n",
    "soup = BeautifulSoup(page_source, 'lxml')\n",
    "table = soup.find('table',class_ = \"Grid search-lotto-result-table\")"
   ]
  },
  {
   "cell_type": "markdown",
   "metadata": {},
   "source": [
    "Setup a BeautifulSoup session to parse the driver page source"
   ]
  },
  {
   "cell_type": "code",
   "execution_count": 10,
   "metadata": {},
   "outputs": [
    {
     "name": "stdout",
     "output_type": "stream",
     "text": [
      "             LOTTO GAME       COMBINATIONS  DRAW DATE   JACKPOT (PHP) WINNERS\n",
      "0       Superlotto 6/49  37-20-41-05-46-35  10/5/2023  109,025,555.20       0\n",
      "1            Lotto 6/42  25-24-26-35-21-42  10/5/2023   21,249,596.40       0\n",
      "2              6D Lotto  5-1-6-7-0-0        10/5/2023      872,333.00       0\n",
      "3          3D Lotto 2PM  4-8-2              10/5/2023        4,500.00     203\n",
      "4          3D Lotto 5PM  6-7-3              10/5/2023        4,500.00     199\n",
      "...                 ...                ...        ...             ...     ...\n",
      "33019      3D Lotto 9PM              9-2-6   1/2/2013        4,500.00     671\n",
      "33020      2D Lotto 9PM              31-12   1/2/2013        4,000.00     619\n",
      "33021      2D Lotto 2PM              13-29   1/2/2013        4,000.00     165\n",
      "33022      2D Lotto 5PM              23-01   1/2/2013        4,000.00     101\n",
      "33023  Grand Lotto 6/55  16-33-22-41-06-25   1/2/2013   85,745,952.00       0\n",
      "\n",
      "[33024 rows x 5 columns]\n"
     ]
    }
   ],
   "source": [
    "headers = table.find_all('th')\n",
    "titles = []\n",
    "for i in headers:\n",
    "\ttitle = i.text\n",
    "\ttitles.append(title)\n",
    "\n",
    "df = pd.DataFrame(columns=titles)\n",
    "\n",
    "rows = table.find_all('tr')\n",
    "for i in rows[1:]:\n",
    "    data = i.find_all('td')\n",
    "    row = [tr.text for tr in data]\n",
    "    l = len(df)\n",
    "    df.loc[l] = row\n",
    "\n",
    "print(df)"
   ]
  },
  {
   "cell_type": "code",
   "execution_count": 11,
   "metadata": {},
   "outputs": [],
   "source": [
    "df.to_csv(\"pcso_data.csv\")"
   ]
  },
  {
   "cell_type": "markdown",
   "metadata": {},
   "source": [
    "Convert the data extracted into a csv file"
   ]
  }
 ],
 "metadata": {
  "kernelspec": {
   "display_name": "Python 3",
   "language": "python",
   "name": "python3"
  },
  "language_info": {
   "codemirror_mode": {
    "name": "ipython",
    "version": 3
   },
   "file_extension": ".py",
   "mimetype": "text/x-python",
   "name": "python",
   "nbconvert_exporter": "python",
   "pygments_lexer": "ipython3",
   "version": "3.10.12"
  }
 },
 "nbformat": 4,
 "nbformat_minor": 2
}
